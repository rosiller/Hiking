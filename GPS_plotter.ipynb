{
 "cells": [
  {
   "cell_type": "code",
   "execution_count": null,
   "id": "e5434035",
   "metadata": {},
   "outputs": [],
   "source": [
    "#  Autoreload changes\n",
    "%load_ext autoreload\n",
    "%autoreload 2\n",
    "\n",
    "import numpy as np\n",
    "import matplotlib.pyplot as plt\n",
    "from glob import glob\n",
    "import os\n",
    "from utils.hiking_utils import get_and_plot_hikes\n"
   ]
  },
  {
   "cell_type": "code",
   "execution_count": null,
   "id": "56f41e10",
   "metadata": {},
   "outputs": [],
   "source": [
    "RAW_DIRECTORY = os.path.join(os.path.abspath(''),\"0-RawData\")\n",
    "PROCESSED_DIRECTORY = os.path.join(os.path.abspath(''),\"1-ProcessedData\")\n",
    "\n",
    "data_dir = os.path.join(RAW_DIRECTORY,\"2023\",\"StravaExport\")"
   ]
  },
  {
   "cell_type": "code",
   "execution_count": null,
   "id": "3e4db757",
   "metadata": {},
   "outputs": [],
   "source": [
    "get_and_plot_hikes(data_dir,\n",
    "                   max_radius=2, # to consider all hikes into a single map (in km)\n",
    "                   margin=0.5 # to all sides of the gps coordinates (in km)\n",
    "                   )"
   ]
  },
  {
   "cell_type": "code",
   "execution_count": null,
   "id": "0761a688",
   "metadata": {},
   "outputs": [],
   "source": []
  }
 ],
 "metadata": {
  "kernelspec": {
   "display_name": "hikes",
   "language": "python",
   "name": "python3"
  },
  "language_info": {
   "codemirror_mode": {
    "name": "ipython",
    "version": 3
   },
   "file_extension": ".py",
   "mimetype": "text/x-python",
   "name": "python",
   "nbconvert_exporter": "python",
   "pygments_lexer": "ipython3",
   "version": "3.10.9"
  }
 },
 "nbformat": 4,
 "nbformat_minor": 5
}
